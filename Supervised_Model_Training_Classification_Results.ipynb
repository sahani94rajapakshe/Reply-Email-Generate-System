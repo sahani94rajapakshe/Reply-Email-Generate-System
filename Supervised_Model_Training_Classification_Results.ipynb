{
 "cells": [
  {
   "cell_type": "code",
   "execution_count": 1,
   "metadata": {},
   "outputs": [],
   "source": [
    "# Imports required libraries\n",
    "import tensorflow as tf\n",
    "import csv\n",
    "import random\n",
    "import numpy as np\n",
    "import pandas as pd\n",
    "import io\n",
    "from tensorflow.keras.preprocessing.text import Tokenizer\n",
    "from tensorflow.keras.preprocessing.sequence import pad_sequences\n",
    "from tensorflow.keras.utils import to_categorical\n",
    "from tensorflow.keras import regularizers\n",
    "import pickle"
   ]
  },
  {
   "cell_type": "code",
   "execution_count": 2,
   "metadata": {},
   "outputs": [],
   "source": [
    "# Reading the dataset\n",
    "dataset = []\n",
    "with open(\"LabeledDataSet.csv\") as csvfile:\n",
    "    reader = csv.reader(csvfile, delimiter=',')\n",
    "    for row in reader:\n",
    "      label = row[2]\n",
    "      sentence = row[1]\n",
    "      item = []\n",
    "      item.append(sentence)\n",
    "      if label == '0': # introduction\n",
    "        item.append(0)\n",
    "      elif label == '1': # past experience\n",
    "        item.append(1)\n",
    "      elif label == '2': # mentioned skills\n",
    "        item.append(2)\n",
    "      elif label == '3': # questions/requests\n",
    "        item.append(3)\n",
    "      else:\n",
    "        continue  \n",
    "      dataset.append(item)\n",
    "# Seperate into sentences and labels\n",
    "sentences=[]\n",
    "labels=[]\n",
    "random.shuffle(dataset)\n",
    "for x in range(len(dataset)):\n",
    "    sentences.append(dataset[x][0])\n",
    "    labels.append(dataset[x][1])\n",
    "    \n"
   ]
  },
  {
   "cell_type": "code",
   "execution_count": 3,
   "metadata": {},
   "outputs": [
    {
     "name": "stdout",
     "output_type": "stream",
     "text": [
      "                                            sentence  label\n",
      "0  Conducting in-depth data mining, visualization...      1\n",
      "1                                           friendly      0\n",
      "2  I was also able to increase my expertise in Ja...      2\n",
      "3  Last year I worked at name of past Internship ...      1\n",
      "4  I came across the opening for Software Develop...      1\n",
      "5  JAD sessions, Brain Storming sessions, Worksho...      2\n",
      "6  I was given the responsibility for working on ...      1\n",
      "7  On a personal level I have the ability to stay...      2\n",
      "8        Extensive knowledge of agile methodologies.      2\n",
      "9  I am improving my knowledge in the field of pr...      0\n"
     ]
    }
   ],
   "source": [
    "# Inspecting the data\n",
    "print(pd.DataFrame({'sentence' : sentences[0:10], 'label':labels[0:10]}))"
   ]
  },
  {
   "cell_type": "code",
   "execution_count": 4,
   "metadata": {},
   "outputs": [],
   "source": [
    "# Splitting the dataset into Train and Evaluation\n",
    "training_sentences = sentences[0:1088]\n",
    "training_labels = labels[0:1088]\n",
    "evaluation_sentences = sentences[1088:]\n",
    "evaluation_labels = labels[1088:]"
   ]
  },
  {
   "cell_type": "code",
   "execution_count": 5,
   "metadata": {},
   "outputs": [],
   "source": [
    "# Preprocessing \n",
    "\n",
    "# Setting the model parameters\n",
    "embedding_dim = 300\n",
    "\n",
    "# Setting the padding properties\n",
    "max_length = 50\n",
    "trunc_type='post'\n",
    "padding_type='post'\n",
    "\n",
    "oov_tok = \"<OOV>\"\n",
    "training_size=1088\n",
    "test_portion=.1\n",
    "\n",
    "# Fit the tokenizer on Training data\n",
    "tokenizer = Tokenizer()\n",
    "tokenizer.fit_on_texts(training_sentences)\n",
    "\n",
    "word_index = tokenizer.word_index\n",
    "vocab_size=len(word_index)\n",
    "\n",
    "# Creating padded sequences from train and test data\n",
    "sequences = tokenizer.texts_to_sequences(training_sentences)\n",
    "padded = pad_sequences(sequences, maxlen=max_length, \n",
    "                       padding=padding_type, truncating=trunc_type)"
   ]
  },
  {
   "cell_type": "code",
   "execution_count": 6,
   "metadata": {},
   "outputs": [],
   "source": [
    "# Splitting the dataset into training and validation \n",
    "split = int(test_portion * training_size)\n",
    "test_sequences = padded[0:split]\n",
    "training_sequences = padded[split:training_size]\n",
    "test_labels = training_labels[0:split]\n",
    "training_labels = training_labels[split:training_size]"
   ]
  },
  {
   "cell_type": "code",
   "execution_count": 7,
   "metadata": {},
   "outputs": [
    {
     "name": "stderr",
     "output_type": "stream",
     "text": [
      "Warning : `load_model` does not return WordVectorModel or SupervisedModel any more, but a `FastText` object which is very similar.\n"
     ]
    },
    {
     "data": {
      "text/plain": [
       "300"
      ]
     },
     "execution_count": 7,
     "metadata": {},
     "output_type": "execute_result"
    }
   ],
   "source": [
    "#loading the pre-trained FastText word embedding in English\n",
    "import fasttext\n",
    "import fasttext.util\n",
    "ft = fasttext.load_model('cc.en.300.bin')\n",
    "ft.get_dimension()"
   ]
  },
  {
   "cell_type": "code",
   "execution_count": 8,
   "metadata": {},
   "outputs": [],
   "source": [
    "# Mapping FastText word vectors with word in the dataset \n",
    "embeddings_matrix = np.zeros((vocab_size+1, embedding_dim));\n",
    "for word, i in word_index.items():\n",
    "    embedding_vector = ft.get_word_vector(word)\n",
    "    if embedding_vector is not None:\n",
    "        embeddings_matrix[i] = embedding_vector;"
   ]
  },
  {
   "cell_type": "code",
   "execution_count": 9,
   "metadata": {},
   "outputs": [
    {
     "name": "stdout",
     "output_type": "stream",
     "text": [
      "Model: \"sequential\"\n",
      "_________________________________________________________________\n",
      "Layer (type)                 Output Shape              Param #   \n",
      "=================================================================\n",
      "embedding (Embedding)        (None, 50, 300)           887100    \n",
      "_________________________________________________________________\n",
      "lstm (LSTM)                  (None, 128)               219648    \n",
      "_________________________________________________________________\n",
      "dense (Dense)                (None, 1)                 129       \n",
      "=================================================================\n",
      "Total params: 1,106,877\n",
      "Trainable params: 219,777\n",
      "Non-trainable params: 887,100\n",
      "_________________________________________________________________\n",
      "Train on 980 samples, validate on 108 samples\n",
      "Epoch 1/10\n",
      "980/980 - 11s - loss: -5.8683e-01 - accuracy: 0.3918 - val_loss: -3.7665e+00 - val_accuracy: 0.4167\n",
      "Epoch 2/10\n",
      "980/980 - 3s - loss: -2.3647e+00 - accuracy: 0.3929 - val_loss: -5.9668e+00 - val_accuracy: 0.4167\n",
      "Epoch 3/10\n",
      "980/980 - 3s - loss: -3.1868e+00 - accuracy: 0.3929 - val_loss: -7.1559e+00 - val_accuracy: 0.4167\n",
      "Epoch 4/10\n",
      "980/980 - 2s - loss: -3.7442e+00 - accuracy: 0.3929 - val_loss: -8.3008e+00 - val_accuracy: 0.4167\n",
      "Epoch 5/10\n",
      "980/980 - 2s - loss: -4.2994e+00 - accuracy: 0.3929 - val_loss: -9.4070e+00 - val_accuracy: 0.4167\n",
      "Epoch 6/10\n",
      "980/980 - 2s - loss: -4.8542e+00 - accuracy: 0.3929 - val_loss: -1.0452e+01 - val_accuracy: 0.4167\n",
      "Epoch 7/10\n",
      "980/980 - 2s - loss: -5.3785e+00 - accuracy: 0.3929 - val_loss: -1.1624e+01 - val_accuracy: 0.4167\n",
      "Epoch 8/10\n",
      "980/980 - 2s - loss: -5.9259e+00 - accuracy: 0.3929 - val_loss: -1.2728e+01 - val_accuracy: 0.4167\n",
      "Epoch 9/10\n",
      "980/980 - 3s - loss: -6.4602e+00 - accuracy: 0.3929 - val_loss: -1.3825e+01 - val_accuracy: 0.4167\n",
      "Epoch 10/10\n",
      "980/980 - 3s - loss: -6.9736e+00 - accuracy: 0.3929 - val_loss: -1.4907e+01 - val_accuracy: 0.4167\n",
      "Training Complete\n"
     ]
    }
   ],
   "source": [
    "#Training the model Classifire using the LSTM algorithm\n",
    "model = tf.keras.Sequential([\n",
    "    tf.keras.layers.Embedding(vocab_size+1, embedding_dim, \n",
    "                              input_length=max_length, weights=[embeddings_matrix], \n",
    "                              trainable=False),\n",
    "    tf.keras.layers.LSTM(128),\n",
    "    tf.keras.layers.Dense(1, activation='sigmoid')\n",
    "])\n",
    "\n",
    "model.compile(loss='binary_crossentropy',optimizer='adam',metrics=['accuracy'])\n",
    "model.summary()\n",
    "\n",
    "# Training the model\n",
    "num_epochs = 10\n",
    "\n",
    "# Converting the lists to numpy arrays for Tensorflow 2.x\n",
    "training_padded = np.array(training_sequences)\n",
    "training_labels = np.array(training_labels)\n",
    "testing_padded = np.array(test_sequences)\n",
    "testing_labels = np.array(test_labels)\n",
    "\n",
    "history = model.fit(training_padded, training_labels, \n",
    "                    epochs=num_epochs, \n",
    "                    validation_data=(testing_padded, testing_labels), verbose=2)\n",
    "print(\"Training Complete\")"
   ]
  },
  {
   "cell_type": "code",
   "execution_count": 10,
   "metadata": {},
   "outputs": [],
   "source": [
    "# Plotting accuracies and errors\n",
    "import matplotlib.image  as mpimg\n",
    "import matplotlib.pyplot as plt\n",
    "\n",
    "acc=history.history['accuracy']\n",
    "val_acc=history.history['val_accuracy']\n",
    "loss=history.history['loss']\n",
    "val_loss=history.history['val_loss']\n",
    "\n",
    "epochs=range(len(acc)) # Get number of epochs"
   ]
  },
  {
   "cell_type": "code",
   "execution_count": 11,
   "metadata": {},
   "outputs": [
    {
     "data": {
      "text/plain": [
       "<Figure size 432x288 with 0 Axes>"
      ]
     },
     "execution_count": 11,
     "metadata": {},
     "output_type": "execute_result"
    },
    {
     "data": {
      "image/png": "[encoded data removed]",
      "text/plain": [
       "<Figure size 432x288 with 1 Axes>"
      ]
     },
     "metadata": {
      "needs_background": "light"
     },
     "output_type": "display_data"
    },
    {
     "data": {
      "text/plain": [
       "<Figure size 432x288 with 0 Axes>"
      ]
     },
     "metadata": {},
     "output_type": "display_data"
    }
   ],
   "source": [
    "# Plot training and validation accuracy per epoch\n",
    "plt.plot(epochs, acc, 'r')\n",
    "plt.plot(epochs, val_acc, 'b')\n",
    "plt.title('Training and validation accuracy')\n",
    "plt.xlabel(\"Epochs\")\n",
    "plt.ylabel(\"Accuracy\")\n",
    "plt.legend([\"Accuracy\", \"Validation Accuracy\"])\n",
    "plt.figure()"
   ]
  },
  {
   "cell_type": "code",
   "execution_count": 12,
   "metadata": {},
   "outputs": [
    {
     "data": {
      "text/plain": [
       "<Figure size 432x288 with 0 Axes>"
      ]
     },
     "execution_count": 12,
     "metadata": {},
     "output_type": "execute_result"
    },
    {
     "data": {
      "image/png": "[encoded data removed]",
      "text/plain": [
       "<Figure size 432x288 with 1 Axes>"
      ]
     },
     "metadata": {
      "needs_background": "light"
     },
     "output_type": "display_data"
    },
    {
     "data": {
      "text/plain": [
       "<Figure size 432x288 with 0 Axes>"
      ]
     },
     "metadata": {},
     "output_type": "display_data"
    }
   ],
   "source": [
    "# Plot training and validation loss per epoch\n",
    "plt.plot(epochs, loss, 'r')\n",
    "plt.plot(epochs, val_loss, 'b')\n",
    "plt.title('Training and validation loss')\n",
    "plt.xlabel(\"Epochs\")\n",
    "plt.ylabel(\"Loss\")\n",
    "plt.legend([\"Loss\", \"Validation Loss\"])\n",
    "plt.figure()"
   ]
  },
  {
   "cell_type": "code",
   "execution_count": 13,
   "metadata": {},
   "outputs": [
    {
     "name": "stdout",
     "output_type": "stream",
     "text": [
      "              precision    recall  f1-score   support\n",
      "\n",
      "           0       0.00      0.00      0.00        77\n",
      "           1       0.40      1.00      0.57       108\n",
      "           2       0.00      0.00      0.00        73\n",
      "           3       0.00      0.00      0.00        14\n",
      "\n",
      "    accuracy                           0.40       272\n",
      "   macro avg       0.10      0.25      0.14       272\n",
      "weighted avg       0.16      0.40      0.23       272\n",
      "\n"
     ]
    },
    {
     "name": "stderr",
     "output_type": "stream",
     "text": [
      "C:\\Users\\LENOVO\\anaconda3\\envs\\tensorflow\\lib\\site-packages\\sklearn\\metrics\\_classification.py:1221: UndefinedMetricWarning: Precision and F-score are ill-defined and being set to 0.0 in labels with no predicted samples. Use `zero_division` parameter to control this behavior.\n",
      "  _warn_prf(average, modifier, msg_start, len(result))\n"
     ]
    }
   ],
   "source": [
    "# Model Evaluation , final sanity check by using the model to predict two new sentences\n",
    "eval_sequences = tokenizer.texts_to_sequences(evaluation_sentences)\n",
    "eval_padded = pad_sequences(eval_sequences, maxlen=max_length, padding=padding_type, truncating=trunc_type)\n",
    "pred = model.predict(eval_padded)\n",
    "predicted_labels = []\n",
    "for x in pred:\n",
    "  predicted_labels.append(int(x.round().item()))\n",
    "\n",
    "predicted_labels = tf.convert_to_tensor(predicted_labels)\n",
    "from sklearn.metrics import classification_report\n",
    "print(classification_report(evaluation_labels, predicted_labels))"
   ]
  },
  {
   "cell_type": "code",
   "execution_count": 14,
   "metadata": {},
   "outputs": [
    {
     "name": "stdout",
     "output_type": "stream",
     "text": [
      "['I am fluent in English'] : Past Experience\n",
      "['I worked as a Back-end Developer at MobiOs Ltd. for more than 1 year.'] : Past Experience\n",
      "['My name is Nimal and I am pleased to be applying for the Software Engineer job'] : Past Experience\n",
      "['Can we arrange a face-to-face or telephone call'] : Past Experience\n"
     ]
    }
   ],
   "source": [
    "# Testing model with sample text\n",
    "def cl_Sentence(sentence):\n",
    "  sentence_sequence = tokenizer.texts_to_sequences(sentence)\n",
    "  padded_sentence_sequence = pad_sequences(sentence_sequence, \n",
    "                                       maxlen=max_length, padding=padding_type, \n",
    "                                       truncating=trunc_type)\n",
    "  sentence_prediction = model.predict(padded_sentence_sequence)\n",
    "  label = sentence_prediction.round().item()\n",
    "  if label == 0:\n",
    "    print(\"%s : Introduction\" % sentence)\n",
    "  elif label == 1:\n",
    "    print(\"%s : Past Experience\" % sentence)\n",
    "  elif label == 2:\n",
    "    print(\"%s : Mentioned Skills\" % sentence)\n",
    "  elif label == 3:\n",
    "    print(\"%s : Questions\" % sentence)\n",
    "    \n",
    "# Use sentence as input and will predict the label\n",
    "\n",
    "cl_Sentence(['I am fluent in English'])\n",
    "cl_Sentence(['I worked as a Back-end Developer at MobiOs Ltd. for more than 1 year.'])\n",
    "cl_Sentence(['My name is Nimal and I am pleased to be applying for the Software Engineer job'])\n",
    "cl_Sentence(['Can we arrange a face-to-face or telephone call'])"
   ]
  },
  {
   "cell_type": "code",
   "execution_count": null,
   "metadata": {},
   "outputs": [],
   "source": []
  }
 ],
 "metadata": {
  "kernelspec": {
   "display_name": "Python 3",
   "language": "python",
   "name": "python3"
  },
  "language_info": {
   "codemirror_mode": {
    "name": "ipython",
    "version": 3
   },
   "file_extension": ".py",
   "mimetype": "text/x-python",
   "name": "python",
   "nbconvert_exporter": "python",
   "pygments_lexer": "ipython3",
   "version": "3.7.9"
  }
 },
 "nbformat": 4,
 "nbformat_minor": 4
}
