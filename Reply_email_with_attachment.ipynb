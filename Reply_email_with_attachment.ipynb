{
 "cells": [
  {
   "cell_type": "code",
   "execution_count": 16,
   "metadata": {},
   "outputs": [
    {
     "name": "stdout",
     "output_type": "stream",
     "text": [
      "password : researchs@123\n"
     ]
    }
   ],
   "source": [
    "import csv, smtplib, ssl\n",
    "\n",
    "message = \"\"\"Subject: Test research email for Interview Date\n",
    "\n",
    "\n",
    "\n",
    "Dear {name},\n",
    "\n",
    "Thank you for interest in applying for above position in {{}}. Please find the interview details.\n",
    "\n",
    "Date: {i_date}\n",
    "Time: {i_time}\n",
    "\n",
    "Thank you and regards.\n",
    "\n",
    "\"\"\"\n",
    "from_address = \"researchsenderemail@gmail.com\"\n",
    "password = input(\"password : \")\n",
    "\n",
    "context = ssl.create_default_context()\n",
    "with smtplib.SMTP_SSL(\"smtp.gmail.com\", 465, context=context) as server:\n",
    "    server.login(from_address, password)\n",
    "    with open(\"details.csv\") as file:\n",
    "        reader = csv.reader(file)\n",
    "        next(reader)  # Skip header row\n",
    "        for no,subject, email,name, isattachmissed ,company,  i_date, i_time in reader:\n",
    "            if isattachmissed == '0':\n",
    "                server.sendmail(\n",
    "                    from_address,\n",
    "                    email,\n",
    "                    message.format(company=company,email=email,no=no,subject=subject,name=name,i_date=i_date,i_time=i_time,isattachmissed=isattachmissed),\n",
    "                )"
   ]
  },
  {
   "cell_type": "code",
   "execution_count": null,
   "metadata": {},
   "outputs": [],
   "source": []
  },
  {
   "cell_type": "code",
   "execution_count": null,
   "metadata": {},
   "outputs": [],
   "source": []
  }
 ],
 "metadata": {
  "kernelspec": {
   "display_name": "Python 3",
   "language": "python",
   "name": "python3"
  },
  "language_info": {
   "codemirror_mode": {
    "name": "ipython",
    "version": 3
   },
   "file_extension": ".py",
   "mimetype": "text/x-python",
   "name": "python",
   "nbconvert_exporter": "python",
   "pygments_lexer": "ipython3",
   "version": "3.7.9"
  }
 },
 "nbformat": 4,
 "nbformat_minor": 4
}
